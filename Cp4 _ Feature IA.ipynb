{
 "cells": [
  {
   "cell_type": "code",
   "execution_count": null,
   "metadata": {
    "collapsed": true,
    "id": "rN2X-cHuFaqH"
   },
   "outputs": [],
   "source": [
    "pip install pycaret==3.3.2 m2cgen pandas numpy scikit-learn"
   ]
  },
  {
   "cell_type": "code",
   "execution_count": 11,
   "metadata": {
    "executionInfo": {
     "elapsed": 7,
     "status": "ok",
     "timestamp": 1756997194663,
     "user": {
      "displayName": "Cícero Serafim",
      "userId": "02963344374723843334"
     },
     "user_tz": 180
    },
    "id": "3a-qiaXl7DGq"
   },
   "outputs": [],
   "source": [
    "import pandas as pd\n",
    "from pycaret.classification import *\n",
    "import m2cgen as m2c\n",
    "import numpy as np"
   ]
  },
  {
   "cell_type": "code",
   "execution_count": 12,
   "metadata": {
    "colab": {
     "base_uri": "https://localhost:8080/"
    },
    "executionInfo": {
     "elapsed": 16,
     "status": "ok",
     "timestamp": 1756997206196,
     "user": {
      "displayName": "Cícero Serafim",
      "userId": "02963344374723843334"
     },
     "user_tz": 180
    },
    "id": "hykLkgQMMUPL",
    "outputId": "2d84f6f1-2a12-4293-f430-fa2b88149739"
   },
   "outputs": [
    {
     "name": "stdout",
     "output_type": "stream",
     "text": [
      "CSV gerado!\n"
     ]
    }
   ],
   "source": [
    "# Simula 100 amostras de dois tipos de movimento (classe1 e classe2)\n",
    "n_samples = 100\n",
    "data = []\n",
    "\n",
    "for _ in range(n_samples):\n",
    "    # Classe 1: sinal mais \"calmo\"\n",
    "    signal = np.random.normal(loc=0.0, scale=0.1, size=50)\n",
    "    features = [\n",
    "        np.mean(signal),         # mean\n",
    "        np.std(signal),          # std\n",
    "        np.sqrt(np.mean(signal**2)),  # rms\n",
    "        np.ptp(signal)           # peak-to-peak\n",
    "    ]\n",
    "    features.append(\"classe1\")\n",
    "    data.append(features)\n",
    "\n",
    "for _ in range(n_samples):\n",
    "    # Classe 2: sinal mais \"agitado\"\n",
    "    signal = np.random.normal(loc=0.0, scale=0.3, size=50)\n",
    "    features = [\n",
    "        np.mean(signal),\n",
    "        np.std(signal),\n",
    "        np.sqrt(np.mean(signal**2)),\n",
    "        np.ptp(signal)\n",
    "    ]\n",
    "    features.append(\"classe2\")\n",
    "    data.append(features)\n",
    "\n",
    "# Cria DataFrame\n",
    "df = pd.DataFrame(data, columns=[\"mean\",\"std\",\"rms\",\"ptp\",\"label\"])\n",
    "\n",
    "# Salva CSV\n",
    "df.to_csv(\"dataset_features.csv\", index=False)\n",
    "print(\"CSV gerado!\")"
   ]
  },
  {
   "cell_type": "code",
   "execution_count": 14,
   "metadata": {
    "colab": {
     "base_uri": "https://localhost:8080/",
     "height": 601,
     "referenced_widgets": [
      "aacb75cedeb34f62853e077e4673a061",
      "f7691129df9e47c18b3a020492f7b418",
      "33f9c591240f4db3975e346fc8a0f9d5",
      "7a05013cf81744228bdd7380d4b76a7b",
      "1b06d3e133e847a0b05a63f368a2ddff",
      "54bbb6de0cda4a34a190d29ec3923ccd",
      "f73dc8555b5643f68597de62402f7a80",
      "4bc7d028b2014b7b9d8af0800b855dd5",
      "f1e5429e69e048b58874f8a58b4f490b",
      "af8570b3572a40718c583f66f9d3e9d0",
      "1b029198759349f79969a72eb11030ef",
      "c4f2890ab505425c9b56e2f1f8ca8344",
      "22efc4f1c521407894c898a1ee6c8d9a",
      "a52db41ee69a4fe09b59f377241ecd73",
      "ec3fcbb40d9e48ed9989175618109efa",
      "312b4a4676c44c48a6320710c9ca6020",
      "90ffaa00630649519284057006551eed",
      "0c7211ab7c9147b4bb68cf758f60f801",
      "ac09ef5b135e4ba487f662be80910d2c",
      "a81eb44e19684479af221ffd0cc3cc11",
      "cd34a052a7f6468985a4f970a48e5426",
      "fb4f7502923b448fb63d7d9f2baff3ee"
     ]
    },
    "executionInfo": {
     "elapsed": 3175,
     "status": "ok",
     "timestamp": 1756997283619,
     "user": {
      "displayName": "Cícero Serafim",
      "userId": "02963344374723843334"
     },
     "user_tz": 180
    },
    "id": "dZU9DVKp7G-k",
    "outputId": "931935bf-0887-4b24-fe9a-a3629f2496bf"
   },
   "outputs": [
    {
     "data": {
      "text/html": [],
      "text/plain": [
       "<IPython.core.display.HTML object>"
      ]
     },
     "metadata": {},
     "output_type": "display_data"
    },
    {
     "data": {
      "text/html": [
       "<style type=\"text/css\">\n",
       "#T_b64a1_row5_col0, #T_b64a1_row5_col1, #T_b64a1_row5_col2, #T_b64a1_row5_col3, #T_b64a1_row5_col4, #T_b64a1_row5_col5, #T_b64a1_row5_col6 {\n",
       "  background: yellow;\n",
       "}\n",
       "</style>\n",
       "<table id=\"T_b64a1\" class=\"dataframe\">\n",
       "  <thead>\n",
       "    <tr>\n",
       "      <th class=\"blank level0\" >&nbsp;</th>\n",
       "      <th id=\"T_b64a1_level0_col0\" class=\"col_heading level0 col0\" >Accuracy</th>\n",
       "      <th id=\"T_b64a1_level0_col1\" class=\"col_heading level0 col1\" >AUC</th>\n",
       "      <th id=\"T_b64a1_level0_col2\" class=\"col_heading level0 col2\" >Recall</th>\n",
       "      <th id=\"T_b64a1_level0_col3\" class=\"col_heading level0 col3\" >Prec.</th>\n",
       "      <th id=\"T_b64a1_level0_col4\" class=\"col_heading level0 col4\" >F1</th>\n",
       "      <th id=\"T_b64a1_level0_col5\" class=\"col_heading level0 col5\" >Kappa</th>\n",
       "      <th id=\"T_b64a1_level0_col6\" class=\"col_heading level0 col6\" >MCC</th>\n",
       "    </tr>\n",
       "    <tr>\n",
       "      <th class=\"index_name level0\" >Fold</th>\n",
       "      <th class=\"blank col0\" >&nbsp;</th>\n",
       "      <th class=\"blank col1\" >&nbsp;</th>\n",
       "      <th class=\"blank col2\" >&nbsp;</th>\n",
       "      <th class=\"blank col3\" >&nbsp;</th>\n",
       "      <th class=\"blank col4\" >&nbsp;</th>\n",
       "      <th class=\"blank col5\" >&nbsp;</th>\n",
       "      <th class=\"blank col6\" >&nbsp;</th>\n",
       "    </tr>\n",
       "  </thead>\n",
       "  <tbody>\n",
       "    <tr>\n",
       "      <th id=\"T_b64a1_level0_row0\" class=\"row_heading level0 row0\" >0</th>\n",
       "      <td id=\"T_b64a1_row0_col0\" class=\"data row0 col0\" >1.0000</td>\n",
       "      <td id=\"T_b64a1_row0_col1\" class=\"data row0 col1\" >1.0000</td>\n",
       "      <td id=\"T_b64a1_row0_col2\" class=\"data row0 col2\" >1.0000</td>\n",
       "      <td id=\"T_b64a1_row0_col3\" class=\"data row0 col3\" >1.0000</td>\n",
       "      <td id=\"T_b64a1_row0_col4\" class=\"data row0 col4\" >1.0000</td>\n",
       "      <td id=\"T_b64a1_row0_col5\" class=\"data row0 col5\" >1.0000</td>\n",
       "      <td id=\"T_b64a1_row0_col6\" class=\"data row0 col6\" >1.0000</td>\n",
       "    </tr>\n",
       "    <tr>\n",
       "      <th id=\"T_b64a1_level0_row1\" class=\"row_heading level0 row1\" >1</th>\n",
       "      <td id=\"T_b64a1_row1_col0\" class=\"data row1 col0\" >1.0000</td>\n",
       "      <td id=\"T_b64a1_row1_col1\" class=\"data row1 col1\" >1.0000</td>\n",
       "      <td id=\"T_b64a1_row1_col2\" class=\"data row1 col2\" >1.0000</td>\n",
       "      <td id=\"T_b64a1_row1_col3\" class=\"data row1 col3\" >1.0000</td>\n",
       "      <td id=\"T_b64a1_row1_col4\" class=\"data row1 col4\" >1.0000</td>\n",
       "      <td id=\"T_b64a1_row1_col5\" class=\"data row1 col5\" >1.0000</td>\n",
       "      <td id=\"T_b64a1_row1_col6\" class=\"data row1 col6\" >1.0000</td>\n",
       "    </tr>\n",
       "    <tr>\n",
       "      <th id=\"T_b64a1_level0_row2\" class=\"row_heading level0 row2\" >2</th>\n",
       "      <td id=\"T_b64a1_row2_col0\" class=\"data row2 col0\" >1.0000</td>\n",
       "      <td id=\"T_b64a1_row2_col1\" class=\"data row2 col1\" >1.0000</td>\n",
       "      <td id=\"T_b64a1_row2_col2\" class=\"data row2 col2\" >1.0000</td>\n",
       "      <td id=\"T_b64a1_row2_col3\" class=\"data row2 col3\" >1.0000</td>\n",
       "      <td id=\"T_b64a1_row2_col4\" class=\"data row2 col4\" >1.0000</td>\n",
       "      <td id=\"T_b64a1_row2_col5\" class=\"data row2 col5\" >1.0000</td>\n",
       "      <td id=\"T_b64a1_row2_col6\" class=\"data row2 col6\" >1.0000</td>\n",
       "    </tr>\n",
       "    <tr>\n",
       "      <th id=\"T_b64a1_level0_row3\" class=\"row_heading level0 row3\" >3</th>\n",
       "      <td id=\"T_b64a1_row3_col0\" class=\"data row3 col0\" >1.0000</td>\n",
       "      <td id=\"T_b64a1_row3_col1\" class=\"data row3 col1\" >1.0000</td>\n",
       "      <td id=\"T_b64a1_row3_col2\" class=\"data row3 col2\" >1.0000</td>\n",
       "      <td id=\"T_b64a1_row3_col3\" class=\"data row3 col3\" >1.0000</td>\n",
       "      <td id=\"T_b64a1_row3_col4\" class=\"data row3 col4\" >1.0000</td>\n",
       "      <td id=\"T_b64a1_row3_col5\" class=\"data row3 col5\" >1.0000</td>\n",
       "      <td id=\"T_b64a1_row3_col6\" class=\"data row3 col6\" >1.0000</td>\n",
       "    </tr>\n",
       "    <tr>\n",
       "      <th id=\"T_b64a1_level0_row4\" class=\"row_heading level0 row4\" >4</th>\n",
       "      <td id=\"T_b64a1_row4_col0\" class=\"data row4 col0\" >1.0000</td>\n",
       "      <td id=\"T_b64a1_row4_col1\" class=\"data row4 col1\" >1.0000</td>\n",
       "      <td id=\"T_b64a1_row4_col2\" class=\"data row4 col2\" >1.0000</td>\n",
       "      <td id=\"T_b64a1_row4_col3\" class=\"data row4 col3\" >1.0000</td>\n",
       "      <td id=\"T_b64a1_row4_col4\" class=\"data row4 col4\" >1.0000</td>\n",
       "      <td id=\"T_b64a1_row4_col5\" class=\"data row4 col5\" >1.0000</td>\n",
       "      <td id=\"T_b64a1_row4_col6\" class=\"data row4 col6\" >1.0000</td>\n",
       "    </tr>\n",
       "    <tr>\n",
       "      <th id=\"T_b64a1_level0_row5\" class=\"row_heading level0 row5\" >Mean</th>\n",
       "      <td id=\"T_b64a1_row5_col0\" class=\"data row5 col0\" >1.0000</td>\n",
       "      <td id=\"T_b64a1_row5_col1\" class=\"data row5 col1\" >1.0000</td>\n",
       "      <td id=\"T_b64a1_row5_col2\" class=\"data row5 col2\" >1.0000</td>\n",
       "      <td id=\"T_b64a1_row5_col3\" class=\"data row5 col3\" >1.0000</td>\n",
       "      <td id=\"T_b64a1_row5_col4\" class=\"data row5 col4\" >1.0000</td>\n",
       "      <td id=\"T_b64a1_row5_col5\" class=\"data row5 col5\" >1.0000</td>\n",
       "      <td id=\"T_b64a1_row5_col6\" class=\"data row5 col6\" >1.0000</td>\n",
       "    </tr>\n",
       "    <tr>\n",
       "      <th id=\"T_b64a1_level0_row6\" class=\"row_heading level0 row6\" >Std</th>\n",
       "      <td id=\"T_b64a1_row6_col0\" class=\"data row6 col0\" >0.0000</td>\n",
       "      <td id=\"T_b64a1_row6_col1\" class=\"data row6 col1\" >0.0000</td>\n",
       "      <td id=\"T_b64a1_row6_col2\" class=\"data row6 col2\" >0.0000</td>\n",
       "      <td id=\"T_b64a1_row6_col3\" class=\"data row6 col3\" >0.0000</td>\n",
       "      <td id=\"T_b64a1_row6_col4\" class=\"data row6 col4\" >0.0000</td>\n",
       "      <td id=\"T_b64a1_row6_col5\" class=\"data row6 col5\" >0.0000</td>\n",
       "      <td id=\"T_b64a1_row6_col6\" class=\"data row6 col6\" >0.0000</td>\n",
       "    </tr>\n",
       "  </tbody>\n",
       "</table>\n"
      ],
      "text/plain": [
       "<pandas.io.formats.style.Styler at 0x7c517462afd0>"
      ]
     },
     "metadata": {},
     "output_type": "display_data"
    },
    {
     "data": {
      "application/vnd.jupyter.widget-view+json": {
       "model_id": "aacb75cedeb34f62853e077e4673a061",
       "version_major": 2,
       "version_minor": 0
      },
      "text/plain": [
       "Processing:   0%|          | 0/4 [00:00<?, ?it/s]"
      ]
     },
     "metadata": {
      "application/vnd.jupyter.widget-view+json": {
       "colab": {
        "custom_widget_manager": {
         "url": "https://ssl.gstatic.com/colaboratory-static/widgets/colab-cdn-widget-manager/2b70e893a8ba7c0f/manager.min.js"
        }
       }
      }
     },
     "output_type": "display_data"
    },
    {
     "data": {
      "text/html": [],
      "text/plain": [
       "<IPython.core.display.HTML object>"
      ]
     },
     "metadata": {},
     "output_type": "display_data"
    },
    {
     "data": {
      "text/html": [],
      "text/plain": [
       "<IPython.core.display.HTML object>"
      ]
     },
     "metadata": {},
     "output_type": "display_data"
    },
    {
     "data": {
      "text/html": [
       "<style type=\"text/css\">\n",
       "#T_3218e_row5_col0, #T_3218e_row5_col1, #T_3218e_row5_col2, #T_3218e_row5_col3, #T_3218e_row5_col4, #T_3218e_row5_col5, #T_3218e_row5_col6 {\n",
       "  background: yellow;\n",
       "}\n",
       "</style>\n",
       "<table id=\"T_3218e\" class=\"dataframe\">\n",
       "  <thead>\n",
       "    <tr>\n",
       "      <th class=\"blank level0\" >&nbsp;</th>\n",
       "      <th id=\"T_3218e_level0_col0\" class=\"col_heading level0 col0\" >Accuracy</th>\n",
       "      <th id=\"T_3218e_level0_col1\" class=\"col_heading level0 col1\" >AUC</th>\n",
       "      <th id=\"T_3218e_level0_col2\" class=\"col_heading level0 col2\" >Recall</th>\n",
       "      <th id=\"T_3218e_level0_col3\" class=\"col_heading level0 col3\" >Prec.</th>\n",
       "      <th id=\"T_3218e_level0_col4\" class=\"col_heading level0 col4\" >F1</th>\n",
       "      <th id=\"T_3218e_level0_col5\" class=\"col_heading level0 col5\" >Kappa</th>\n",
       "      <th id=\"T_3218e_level0_col6\" class=\"col_heading level0 col6\" >MCC</th>\n",
       "    </tr>\n",
       "    <tr>\n",
       "      <th class=\"index_name level0\" >Fold</th>\n",
       "      <th class=\"blank col0\" >&nbsp;</th>\n",
       "      <th class=\"blank col1\" >&nbsp;</th>\n",
       "      <th class=\"blank col2\" >&nbsp;</th>\n",
       "      <th class=\"blank col3\" >&nbsp;</th>\n",
       "      <th class=\"blank col4\" >&nbsp;</th>\n",
       "      <th class=\"blank col5\" >&nbsp;</th>\n",
       "      <th class=\"blank col6\" >&nbsp;</th>\n",
       "    </tr>\n",
       "  </thead>\n",
       "  <tbody>\n",
       "    <tr>\n",
       "      <th id=\"T_3218e_level0_row0\" class=\"row_heading level0 row0\" >0</th>\n",
       "      <td id=\"T_3218e_row0_col0\" class=\"data row0 col0\" >1.0000</td>\n",
       "      <td id=\"T_3218e_row0_col1\" class=\"data row0 col1\" >1.0000</td>\n",
       "      <td id=\"T_3218e_row0_col2\" class=\"data row0 col2\" >1.0000</td>\n",
       "      <td id=\"T_3218e_row0_col3\" class=\"data row0 col3\" >1.0000</td>\n",
       "      <td id=\"T_3218e_row0_col4\" class=\"data row0 col4\" >1.0000</td>\n",
       "      <td id=\"T_3218e_row0_col5\" class=\"data row0 col5\" >1.0000</td>\n",
       "      <td id=\"T_3218e_row0_col6\" class=\"data row0 col6\" >1.0000</td>\n",
       "    </tr>\n",
       "    <tr>\n",
       "      <th id=\"T_3218e_level0_row1\" class=\"row_heading level0 row1\" >1</th>\n",
       "      <td id=\"T_3218e_row1_col0\" class=\"data row1 col0\" >1.0000</td>\n",
       "      <td id=\"T_3218e_row1_col1\" class=\"data row1 col1\" >1.0000</td>\n",
       "      <td id=\"T_3218e_row1_col2\" class=\"data row1 col2\" >1.0000</td>\n",
       "      <td id=\"T_3218e_row1_col3\" class=\"data row1 col3\" >1.0000</td>\n",
       "      <td id=\"T_3218e_row1_col4\" class=\"data row1 col4\" >1.0000</td>\n",
       "      <td id=\"T_3218e_row1_col5\" class=\"data row1 col5\" >1.0000</td>\n",
       "      <td id=\"T_3218e_row1_col6\" class=\"data row1 col6\" >1.0000</td>\n",
       "    </tr>\n",
       "    <tr>\n",
       "      <th id=\"T_3218e_level0_row2\" class=\"row_heading level0 row2\" >2</th>\n",
       "      <td id=\"T_3218e_row2_col0\" class=\"data row2 col0\" >1.0000</td>\n",
       "      <td id=\"T_3218e_row2_col1\" class=\"data row2 col1\" >1.0000</td>\n",
       "      <td id=\"T_3218e_row2_col2\" class=\"data row2 col2\" >1.0000</td>\n",
       "      <td id=\"T_3218e_row2_col3\" class=\"data row2 col3\" >1.0000</td>\n",
       "      <td id=\"T_3218e_row2_col4\" class=\"data row2 col4\" >1.0000</td>\n",
       "      <td id=\"T_3218e_row2_col5\" class=\"data row2 col5\" >1.0000</td>\n",
       "      <td id=\"T_3218e_row2_col6\" class=\"data row2 col6\" >1.0000</td>\n",
       "    </tr>\n",
       "    <tr>\n",
       "      <th id=\"T_3218e_level0_row3\" class=\"row_heading level0 row3\" >3</th>\n",
       "      <td id=\"T_3218e_row3_col0\" class=\"data row3 col0\" >1.0000</td>\n",
       "      <td id=\"T_3218e_row3_col1\" class=\"data row3 col1\" >1.0000</td>\n",
       "      <td id=\"T_3218e_row3_col2\" class=\"data row3 col2\" >1.0000</td>\n",
       "      <td id=\"T_3218e_row3_col3\" class=\"data row3 col3\" >1.0000</td>\n",
       "      <td id=\"T_3218e_row3_col4\" class=\"data row3 col4\" >1.0000</td>\n",
       "      <td id=\"T_3218e_row3_col5\" class=\"data row3 col5\" >1.0000</td>\n",
       "      <td id=\"T_3218e_row3_col6\" class=\"data row3 col6\" >1.0000</td>\n",
       "    </tr>\n",
       "    <tr>\n",
       "      <th id=\"T_3218e_level0_row4\" class=\"row_heading level0 row4\" >4</th>\n",
       "      <td id=\"T_3218e_row4_col0\" class=\"data row4 col0\" >1.0000</td>\n",
       "      <td id=\"T_3218e_row4_col1\" class=\"data row4 col1\" >1.0000</td>\n",
       "      <td id=\"T_3218e_row4_col2\" class=\"data row4 col2\" >1.0000</td>\n",
       "      <td id=\"T_3218e_row4_col3\" class=\"data row4 col3\" >1.0000</td>\n",
       "      <td id=\"T_3218e_row4_col4\" class=\"data row4 col4\" >1.0000</td>\n",
       "      <td id=\"T_3218e_row4_col5\" class=\"data row4 col5\" >1.0000</td>\n",
       "      <td id=\"T_3218e_row4_col6\" class=\"data row4 col6\" >1.0000</td>\n",
       "    </tr>\n",
       "    <tr>\n",
       "      <th id=\"T_3218e_level0_row5\" class=\"row_heading level0 row5\" >Mean</th>\n",
       "      <td id=\"T_3218e_row5_col0\" class=\"data row5 col0\" >1.0000</td>\n",
       "      <td id=\"T_3218e_row5_col1\" class=\"data row5 col1\" >1.0000</td>\n",
       "      <td id=\"T_3218e_row5_col2\" class=\"data row5 col2\" >1.0000</td>\n",
       "      <td id=\"T_3218e_row5_col3\" class=\"data row5 col3\" >1.0000</td>\n",
       "      <td id=\"T_3218e_row5_col4\" class=\"data row5 col4\" >1.0000</td>\n",
       "      <td id=\"T_3218e_row5_col5\" class=\"data row5 col5\" >1.0000</td>\n",
       "      <td id=\"T_3218e_row5_col6\" class=\"data row5 col6\" >1.0000</td>\n",
       "    </tr>\n",
       "    <tr>\n",
       "      <th id=\"T_3218e_level0_row6\" class=\"row_heading level0 row6\" >Std</th>\n",
       "      <td id=\"T_3218e_row6_col0\" class=\"data row6 col0\" >0.0000</td>\n",
       "      <td id=\"T_3218e_row6_col1\" class=\"data row6 col1\" >0.0000</td>\n",
       "      <td id=\"T_3218e_row6_col2\" class=\"data row6 col2\" >0.0000</td>\n",
       "      <td id=\"T_3218e_row6_col3\" class=\"data row6 col3\" >0.0000</td>\n",
       "      <td id=\"T_3218e_row6_col4\" class=\"data row6 col4\" >0.0000</td>\n",
       "      <td id=\"T_3218e_row6_col5\" class=\"data row6 col5\" >0.0000</td>\n",
       "      <td id=\"T_3218e_row6_col6\" class=\"data row6 col6\" >0.0000</td>\n",
       "    </tr>\n",
       "  </tbody>\n",
       "</table>\n"
      ],
      "text/plain": [
       "<pandas.io.formats.style.Styler at 0x7c51744ef950>"
      ]
     },
     "metadata": {},
     "output_type": "display_data"
    },
    {
     "data": {
      "application/vnd.jupyter.widget-view+json": {
       "model_id": "fb4f7502923b448fb63d7d9f2baff3ee",
       "version_major": 2,
       "version_minor": 0
      },
      "text/plain": [
       "Processing:   0%|          | 0/4 [00:00<?, ?it/s]"
      ]
     },
     "metadata": {
      "application/vnd.jupyter.widget-view+json": {
       "colab": {
        "custom_widget_manager": {
         "url": "https://ssl.gstatic.com/colaboratory-static/widgets/colab-cdn-widget-manager/2b70e893a8ba7c0f/manager.min.js"
        }
       }
      }
     },
     "output_type": "display_data"
    },
    {
     "data": {
      "text/html": [],
      "text/plain": [
       "<IPython.core.display.HTML object>"
      ]
     },
     "metadata": {},
     "output_type": "display_data"
    },
    {
     "name": "stdout",
     "output_type": "stream",
     "text": [
      "Gerados: model_dt.c e model_svm.c\n"
     ]
    }
   ],
   "source": [
    "df = pd.read_csv(\"dataset_features.csv\") # colunas: mean,std,rms,ptp,label\n",
    "features = [\"mean\",\"std\",\"rms\",\"ptp\"]\n",
    "target = \"label\"\n",
    "s = setup(data=df[features+[target]], target=target,\n",
    " session_id=42, normalize=True, fold=5, verbose=False)\n",
    "\n",
    "# 1) Decision Tree (leve)\n",
    "dt = create_model(\"dt\") # árvore padrão\n",
    "dt_final = finalize_model(dt)\n",
    "# Extract the scikit-learn model from the PyCaret pipeline\n",
    "dt_model = dt_final.steps[-1][1]\n",
    "open(\"model_dt.c\",\"w\").write(m2c.export_to_c(dt_model))\n",
    "\n",
    "# 2) SVM linear (leve e bom p/ MCU)\n",
    "svm = create_model(\"svm\") # linear por padrão no PyCaret (scikit SVC linear kernel='rbf'? No PyCaret \"svm\" costuma ser LinearSVM/LinearSVC)\n",
    "svm_final = finalize_model(svm)\n",
    "# Extract the scikit-learn model from the PyCaret pipeline\n",
    "svm_model = svm_final.steps[-1][1]\n",
    "open(\"model_svm.c\",\"w\").write(m2c.export_to_c(svm_model))\n",
    "print(\"Gerados: model_dt.c e model_svm.c\")"
   ]
  },
  {
   "cell_type": "code",
   "execution_count": 15,
   "metadata": {
    "colab": {
     "base_uri": "https://localhost:8080/",
     "height": 17
    },
    "executionInfo": {
     "elapsed": 62,
     "status": "ok",
     "timestamp": 1756997429243,
     "user": {
      "displayName": "Cícero Serafim",
      "userId": "02963344374723843334"
     },
     "user_tz": 180
    },
    "id": "jTbfu-4VNRx7",
    "outputId": "accd4500-30da-4a71-d8c3-4e7a79e24abc"
   },
   "outputs": [
    {
     "data": {
      "application/javascript": "\n    async function download(id, filename, size) {\n      if (!google.colab.kernel.accessAllowed) {\n        return;\n      }\n      const div = document.createElement('div');\n      const label = document.createElement('label');\n      label.textContent = `Downloading \"${filename}\": `;\n      div.appendChild(label);\n      const progress = document.createElement('progress');\n      progress.max = size;\n      div.appendChild(progress);\n      document.body.appendChild(div);\n\n      const buffers = [];\n      let downloaded = 0;\n\n      const channel = await google.colab.kernel.comms.open(id);\n      // Send a message to notify the kernel that we're ready.\n      channel.send({})\n\n      for await (const message of channel.messages) {\n        // Send a message to notify the kernel that we're ready.\n        channel.send({})\n        if (message.buffers) {\n          for (const buffer of message.buffers) {\n            buffers.push(buffer);\n            downloaded += buffer.byteLength;\n            progress.value = downloaded;\n          }\n        }\n      }\n      const blob = new Blob(buffers, {type: 'application/binary'});\n      const a = document.createElement('a');\n      a.href = window.URL.createObjectURL(blob);\n      a.download = filename;\n      div.appendChild(a);\n      a.click();\n      div.remove();\n    }\n  ",
      "text/plain": [
       "<IPython.core.display.Javascript object>"
      ]
     },
     "metadata": {},
     "output_type": "display_data"
    },
    {
     "data": {
      "application/javascript": "download(\"download_ed0e1dd4-929c-4c1e-9338-65085c960e9f\", \"model_dt.c\", 324)",
      "text/plain": [
       "<IPython.core.display.Javascript object>"
      ]
     },
     "metadata": {},
     "output_type": "display_data"
    },
    {
     "data": {
      "application/javascript": "\n    async function download(id, filename, size) {\n      if (!google.colab.kernel.accessAllowed) {\n        return;\n      }\n      const div = document.createElement('div');\n      const label = document.createElement('label');\n      label.textContent = `Downloading \"${filename}\": `;\n      div.appendChild(label);\n      const progress = document.createElement('progress');\n      progress.max = size;\n      div.appendChild(progress);\n      document.body.appendChild(div);\n\n      const buffers = [];\n      let downloaded = 0;\n\n      const channel = await google.colab.kernel.comms.open(id);\n      // Send a message to notify the kernel that we're ready.\n      channel.send({})\n\n      for await (const message of channel.messages) {\n        // Send a message to notify the kernel that we're ready.\n        channel.send({})\n        if (message.buffers) {\n          for (const buffer of message.buffers) {\n            buffers.push(buffer);\n            downloaded += buffer.byteLength;\n            progress.value = downloaded;\n          }\n        }\n      }\n      const blob = new Blob(buffers, {type: 'application/binary'});\n      const a = document.createElement('a');\n      a.href = window.URL.createObjectURL(blob);\n      a.download = filename;\n      div.appendChild(a);\n      a.click();\n      div.remove();\n    }\n  ",
      "text/plain": [
       "<IPython.core.display.Javascript object>"
      ]
     },
     "metadata": {},
     "output_type": "display_data"
    },
    {
     "data": {
      "application/javascript": "download(\"download_04ed3ea4-bbcf-483f-86c0-2b6345b0847a\", \"model_svm.c\", 191)",
      "text/plain": [
       "<IPython.core.display.Javascript object>"
      ]
     },
     "metadata": {},
     "output_type": "display_data"
    }
   ],
   "source": [
    "from google.colab import files\n",
    "\n",
    "files.download(\"model_dt.c\")\n",
    "files.download(\"model_svm.c\")"
   ]
  }
 ],
 "metadata": {
  "colab": {
   "authorship_tag": "ABX9TyNScc2koMwxCmzVnJPjVzOV",
   "provenance": [],
   "runtime_attributes": {
    "runtime_version": "2025.07"
   }
  },
  "kernelspec": {
   "display_name": "Python 3",
   "name": "python3"
  },
  "language_info": {
   "codemirror_mode": {
    "name": "ipython",
    "version": 3
   },
   "file_extension": ".py",
   "mimetype": "text/x-python",
   "name": "python",
   "nbconvert_exporter": "python",
   "pygments_lexer": "ipython3",
   "version": "3.13.1"
  },
  "widgets": {
   "application/vnd.jupyter.widget-state+json": {
    "0c7211ab7c9147b4bb68cf758f60f801": {
     "model_module": "@jupyter-widgets/controls",
     "model_module_version": "1.5.0",
     "model_name": "HTMLModel",
     "state": {
      "_dom_classes": [],
      "_model_module": "@jupyter-widgets/controls",
      "_model_module_version": "1.5.0",
      "_model_name": "HTMLModel",
      "_view_count": null,
      "_view_module": "@jupyter-widgets/controls",
      "_view_module_version": "1.5.0",
      "_view_name": "HTMLView",
      "description": "",
      "description_tooltip": null,
      "layout": "IPY_MODEL_a52db41ee69a4fe09b59f377241ecd73",
      "placeholder": "​",
      "style": "IPY_MODEL_ec3fcbb40d9e48ed9989175618109efa",
      "value": "Processing:   0%"
     }
    },
    "1b029198759349f79969a72eb11030ef": {
     "model_module": "@jupyter-widgets/controls",
     "model_module_version": "1.5.0",
     "model_name": "DescriptionStyleModel",
     "state": {
      "_model_module": "@jupyter-widgets/controls",
      "_model_module_version": "1.5.0",
      "_model_name": "DescriptionStyleModel",
      "_view_count": null,
      "_view_module": "@jupyter-widgets/base",
      "_view_module_version": "1.2.0",
      "_view_name": "StyleView",
      "description_width": ""
     }
    },
    "1b06d3e133e847a0b05a63f368a2ddff": {
     "model_module": "@jupyter-widgets/base",
     "model_module_version": "1.2.0",
     "model_name": "LayoutModel",
     "state": {
      "_model_module": "@jupyter-widgets/base",
      "_model_module_version": "1.2.0",
      "_model_name": "LayoutModel",
      "_view_count": null,
      "_view_module": "@jupyter-widgets/base",
      "_view_module_version": "1.2.0",
      "_view_name": "LayoutView",
      "align_content": null,
      "align_items": null,
      "align_self": null,
      "border": null,
      "bottom": null,
      "display": null,
      "flex": null,
      "flex_flow": null,
      "grid_area": null,
      "grid_auto_columns": null,
      "grid_auto_flow": null,
      "grid_auto_rows": null,
      "grid_column": null,
      "grid_gap": null,
      "grid_row": null,
      "grid_template_areas": null,
      "grid_template_columns": null,
      "grid_template_rows": null,
      "height": null,
      "justify_content": null,
      "justify_items": null,
      "left": null,
      "margin": null,
      "max_height": null,
      "max_width": null,
      "min_height": null,
      "min_width": null,
      "object_fit": null,
      "object_position": null,
      "order": null,
      "overflow": null,
      "overflow_x": null,
      "overflow_y": null,
      "padding": null,
      "right": null,
      "top": null,
      "visibility": "hidden",
      "width": null
     }
    },
    "22efc4f1c521407894c898a1ee6c8d9a": {
     "model_module": "@jupyter-widgets/controls",
     "model_module_version": "1.5.0",
     "model_name": "ProgressStyleModel",
     "state": {
      "_model_module": "@jupyter-widgets/controls",
      "_model_module_version": "1.5.0",
      "_model_name": "ProgressStyleModel",
      "_view_count": null,
      "_view_module": "@jupyter-widgets/base",
      "_view_module_version": "1.2.0",
      "_view_name": "StyleView",
      "bar_color": null,
      "description_width": ""
     }
    },
    "312b4a4676c44c48a6320710c9ca6020": {
     "model_module": "@jupyter-widgets/base",
     "model_module_version": "1.2.0",
     "model_name": "LayoutModel",
     "state": {
      "_model_module": "@jupyter-widgets/base",
      "_model_module_version": "1.2.0",
      "_model_name": "LayoutModel",
      "_view_count": null,
      "_view_module": "@jupyter-widgets/base",
      "_view_module_version": "1.2.0",
      "_view_name": "LayoutView",
      "align_content": null,
      "align_items": null,
      "align_self": null,
      "border": null,
      "bottom": null,
      "display": null,
      "flex": null,
      "flex_flow": null,
      "grid_area": null,
      "grid_auto_columns": null,
      "grid_auto_flow": null,
      "grid_auto_rows": null,
      "grid_column": null,
      "grid_gap": null,
      "grid_row": null,
      "grid_template_areas": null,
      "grid_template_columns": null,
      "grid_template_rows": null,
      "height": null,
      "justify_content": null,
      "justify_items": null,
      "left": null,
      "margin": null,
      "max_height": null,
      "max_width": null,
      "min_height": null,
      "min_width": null,
      "object_fit": null,
      "object_position": null,
      "order": null,
      "overflow": null,
      "overflow_x": null,
      "overflow_y": null,
      "padding": null,
      "right": null,
      "top": null,
      "visibility": null,
      "width": null
     }
    },
    "33f9c591240f4db3975e346fc8a0f9d5": {
     "model_module": "@jupyter-widgets/controls",
     "model_module_version": "1.5.0",
     "model_name": "FloatProgressModel",
     "state": {
      "_dom_classes": [],
      "_model_module": "@jupyter-widgets/controls",
      "_model_module_version": "1.5.0",
      "_model_name": "FloatProgressModel",
      "_view_count": null,
      "_view_module": "@jupyter-widgets/controls",
      "_view_module_version": "1.5.0",
      "_view_name": "ProgressView",
      "bar_style": "",
      "description": "",
      "description_tooltip": null,
      "layout": "IPY_MODEL_4bc7d028b2014b7b9d8af0800b855dd5",
      "max": 4,
      "min": 0,
      "orientation": "horizontal",
      "style": "IPY_MODEL_f1e5429e69e048b58874f8a58b4f490b",
      "value": 4
     }
    },
    "4bc7d028b2014b7b9d8af0800b855dd5": {
     "model_module": "@jupyter-widgets/base",
     "model_module_version": "1.2.0",
     "model_name": "LayoutModel",
     "state": {
      "_model_module": "@jupyter-widgets/base",
      "_model_module_version": "1.2.0",
      "_model_name": "LayoutModel",
      "_view_count": null,
      "_view_module": "@jupyter-widgets/base",
      "_view_module_version": "1.2.0",
      "_view_name": "LayoutView",
      "align_content": null,
      "align_items": null,
      "align_self": null,
      "border": null,
      "bottom": null,
      "display": null,
      "flex": null,
      "flex_flow": null,
      "grid_area": null,
      "grid_auto_columns": null,
      "grid_auto_flow": null,
      "grid_auto_rows": null,
      "grid_column": null,
      "grid_gap": null,
      "grid_row": null,
      "grid_template_areas": null,
      "grid_template_columns": null,
      "grid_template_rows": null,
      "height": null,
      "justify_content": null,
      "justify_items": null,
      "left": null,
      "margin": null,
      "max_height": null,
      "max_width": null,
      "min_height": null,
      "min_width": null,
      "object_fit": null,
      "object_position": null,
      "order": null,
      "overflow": null,
      "overflow_x": null,
      "overflow_y": null,
      "padding": null,
      "right": null,
      "top": null,
      "visibility": null,
      "width": null
     }
    },
    "54bbb6de0cda4a34a190d29ec3923ccd": {
     "model_module": "@jupyter-widgets/base",
     "model_module_version": "1.2.0",
     "model_name": "LayoutModel",
     "state": {
      "_model_module": "@jupyter-widgets/base",
      "_model_module_version": "1.2.0",
      "_model_name": "LayoutModel",
      "_view_count": null,
      "_view_module": "@jupyter-widgets/base",
      "_view_module_version": "1.2.0",
      "_view_name": "LayoutView",
      "align_content": null,
      "align_items": null,
      "align_self": null,
      "border": null,
      "bottom": null,
      "display": null,
      "flex": null,
      "flex_flow": null,
      "grid_area": null,
      "grid_auto_columns": null,
      "grid_auto_flow": null,
      "grid_auto_rows": null,
      "grid_column": null,
      "grid_gap": null,
      "grid_row": null,
      "grid_template_areas": null,
      "grid_template_columns": null,
      "grid_template_rows": null,
      "height": null,
      "justify_content": null,
      "justify_items": null,
      "left": null,
      "margin": null,
      "max_height": null,
      "max_width": null,
      "min_height": null,
      "min_width": null,
      "object_fit": null,
      "object_position": null,
      "order": null,
      "overflow": null,
      "overflow_x": null,
      "overflow_y": null,
      "padding": null,
      "right": null,
      "top": null,
      "visibility": null,
      "width": null
     }
    },
    "7a05013cf81744228bdd7380d4b76a7b": {
     "model_module": "@jupyter-widgets/controls",
     "model_module_version": "1.5.0",
     "model_name": "HTMLModel",
     "state": {
      "_dom_classes": [],
      "_model_module": "@jupyter-widgets/controls",
      "_model_module_version": "1.5.0",
      "_model_name": "HTMLModel",
      "_view_count": null,
      "_view_module": "@jupyter-widgets/controls",
      "_view_module_version": "1.5.0",
      "_view_name": "HTMLView",
      "description": "",
      "description_tooltip": null,
      "layout": "IPY_MODEL_af8570b3572a40718c583f66f9d3e9d0",
      "placeholder": "​",
      "style": "IPY_MODEL_1b029198759349f79969a72eb11030ef",
      "value": " 0/4 [00:00&lt;?, ?it/s]"
     }
    },
    "90ffaa00630649519284057006551eed": {
     "model_module": "@jupyter-widgets/controls",
     "model_module_version": "1.5.0",
     "model_name": "DescriptionStyleModel",
     "state": {
      "_model_module": "@jupyter-widgets/controls",
      "_model_module_version": "1.5.0",
      "_model_name": "DescriptionStyleModel",
      "_view_count": null,
      "_view_module": "@jupyter-widgets/base",
      "_view_module_version": "1.2.0",
      "_view_name": "StyleView",
      "description_width": ""
     }
    },
    "a52db41ee69a4fe09b59f377241ecd73": {
     "model_module": "@jupyter-widgets/base",
     "model_module_version": "1.2.0",
     "model_name": "LayoutModel",
     "state": {
      "_model_module": "@jupyter-widgets/base",
      "_model_module_version": "1.2.0",
      "_model_name": "LayoutModel",
      "_view_count": null,
      "_view_module": "@jupyter-widgets/base",
      "_view_module_version": "1.2.0",
      "_view_name": "LayoutView",
      "align_content": null,
      "align_items": null,
      "align_self": null,
      "border": null,
      "bottom": null,
      "display": null,
      "flex": null,
      "flex_flow": null,
      "grid_area": null,
      "grid_auto_columns": null,
      "grid_auto_flow": null,
      "grid_auto_rows": null,
      "grid_column": null,
      "grid_gap": null,
      "grid_row": null,
      "grid_template_areas": null,
      "grid_template_columns": null,
      "grid_template_rows": null,
      "height": null,
      "justify_content": null,
      "justify_items": null,
      "left": null,
      "margin": null,
      "max_height": null,
      "max_width": null,
      "min_height": null,
      "min_width": null,
      "object_fit": null,
      "object_position": null,
      "order": null,
      "overflow": null,
      "overflow_x": null,
      "overflow_y": null,
      "padding": null,
      "right": null,
      "top": null,
      "visibility": null,
      "width": null
     }
    },
    "a81eb44e19684479af221ffd0cc3cc11": {
     "model_module": "@jupyter-widgets/controls",
     "model_module_version": "1.5.0",
     "model_name": "HTMLModel",
     "state": {
      "_dom_classes": [],
      "_model_module": "@jupyter-widgets/controls",
      "_model_module_version": "1.5.0",
      "_model_name": "HTMLModel",
      "_view_count": null,
      "_view_module": "@jupyter-widgets/controls",
      "_view_module_version": "1.5.0",
      "_view_name": "HTMLView",
      "description": "",
      "description_tooltip": null,
      "layout": "IPY_MODEL_312b4a4676c44c48a6320710c9ca6020",
      "placeholder": "​",
      "style": "IPY_MODEL_90ffaa00630649519284057006551eed",
      "value": " 0/4 [00:00&lt;?, ?it/s]"
     }
    },
    "aacb75cedeb34f62853e077e4673a061": {
     "model_module": "@jupyter-widgets/controls",
     "model_module_version": "1.5.0",
     "model_name": "HBoxModel",
     "state": {
      "_dom_classes": [],
      "_model_module": "@jupyter-widgets/controls",
      "_model_module_version": "1.5.0",
      "_model_name": "HBoxModel",
      "_view_count": null,
      "_view_module": "@jupyter-widgets/controls",
      "_view_module_version": "1.5.0",
      "_view_name": "HBoxView",
      "box_style": "",
      "children": [
       "IPY_MODEL_f7691129df9e47c18b3a020492f7b418",
       "IPY_MODEL_33f9c591240f4db3975e346fc8a0f9d5",
       "IPY_MODEL_7a05013cf81744228bdd7380d4b76a7b"
      ],
      "layout": "IPY_MODEL_1b06d3e133e847a0b05a63f368a2ddff"
     }
    },
    "ac09ef5b135e4ba487f662be80910d2c": {
     "model_module": "@jupyter-widgets/controls",
     "model_module_version": "1.5.0",
     "model_name": "FloatProgressModel",
     "state": {
      "_dom_classes": [],
      "_model_module": "@jupyter-widgets/controls",
      "_model_module_version": "1.5.0",
      "_model_name": "FloatProgressModel",
      "_view_count": null,
      "_view_module": "@jupyter-widgets/controls",
      "_view_module_version": "1.5.0",
      "_view_name": "ProgressView",
      "bar_style": "",
      "description": "",
      "description_tooltip": null,
      "layout": "IPY_MODEL_c4f2890ab505425c9b56e2f1f8ca8344",
      "max": 4,
      "min": 0,
      "orientation": "horizontal",
      "style": "IPY_MODEL_22efc4f1c521407894c898a1ee6c8d9a",
      "value": 4
     }
    },
    "af8570b3572a40718c583f66f9d3e9d0": {
     "model_module": "@jupyter-widgets/base",
     "model_module_version": "1.2.0",
     "model_name": "LayoutModel",
     "state": {
      "_model_module": "@jupyter-widgets/base",
      "_model_module_version": "1.2.0",
      "_model_name": "LayoutModel",
      "_view_count": null,
      "_view_module": "@jupyter-widgets/base",
      "_view_module_version": "1.2.0",
      "_view_name": "LayoutView",
      "align_content": null,
      "align_items": null,
      "align_self": null,
      "border": null,
      "bottom": null,
      "display": null,
      "flex": null,
      "flex_flow": null,
      "grid_area": null,
      "grid_auto_columns": null,
      "grid_auto_flow": null,
      "grid_auto_rows": null,
      "grid_column": null,
      "grid_gap": null,
      "grid_row": null,
      "grid_template_areas": null,
      "grid_template_columns": null,
      "grid_template_rows": null,
      "height": null,
      "justify_content": null,
      "justify_items": null,
      "left": null,
      "margin": null,
      "max_height": null,
      "max_width": null,
      "min_height": null,
      "min_width": null,
      "object_fit": null,
      "object_position": null,
      "order": null,
      "overflow": null,
      "overflow_x": null,
      "overflow_y": null,
      "padding": null,
      "right": null,
      "top": null,
      "visibility": null,
      "width": null
     }
    },
    "c4f2890ab505425c9b56e2f1f8ca8344": {
     "model_module": "@jupyter-widgets/base",
     "model_module_version": "1.2.0",
     "model_name": "LayoutModel",
     "state": {
      "_model_module": "@jupyter-widgets/base",
      "_model_module_version": "1.2.0",
      "_model_name": "LayoutModel",
      "_view_count": null,
      "_view_module": "@jupyter-widgets/base",
      "_view_module_version": "1.2.0",
      "_view_name": "LayoutView",
      "align_content": null,
      "align_items": null,
      "align_self": null,
      "border": null,
      "bottom": null,
      "display": null,
      "flex": null,
      "flex_flow": null,
      "grid_area": null,
      "grid_auto_columns": null,
      "grid_auto_flow": null,
      "grid_auto_rows": null,
      "grid_column": null,
      "grid_gap": null,
      "grid_row": null,
      "grid_template_areas": null,
      "grid_template_columns": null,
      "grid_template_rows": null,
      "height": null,
      "justify_content": null,
      "justify_items": null,
      "left": null,
      "margin": null,
      "max_height": null,
      "max_width": null,
      "min_height": null,
      "min_width": null,
      "object_fit": null,
      "object_position": null,
      "order": null,
      "overflow": null,
      "overflow_x": null,
      "overflow_y": null,
      "padding": null,
      "right": null,
      "top": null,
      "visibility": null,
      "width": null
     }
    },
    "cd34a052a7f6468985a4f970a48e5426": {
     "model_module": "@jupyter-widgets/base",
     "model_module_version": "1.2.0",
     "model_name": "LayoutModel",
     "state": {
      "_model_module": "@jupyter-widgets/base",
      "_model_module_version": "1.2.0",
      "_model_name": "LayoutModel",
      "_view_count": null,
      "_view_module": "@jupyter-widgets/base",
      "_view_module_version": "1.2.0",
      "_view_name": "LayoutView",
      "align_content": null,
      "align_items": null,
      "align_self": null,
      "border": null,
      "bottom": null,
      "display": null,
      "flex": null,
      "flex_flow": null,
      "grid_area": null,
      "grid_auto_columns": null,
      "grid_auto_flow": null,
      "grid_auto_rows": null,
      "grid_column": null,
      "grid_gap": null,
      "grid_row": null,
      "grid_template_areas": null,
      "grid_template_columns": null,
      "grid_template_rows": null,
      "height": null,
      "justify_content": null,
      "justify_items": null,
      "left": null,
      "margin": null,
      "max_height": null,
      "max_width": null,
      "min_height": null,
      "min_width": null,
      "object_fit": null,
      "object_position": null,
      "order": null,
      "overflow": null,
      "overflow_x": null,
      "overflow_y": null,
      "padding": null,
      "right": null,
      "top": null,
      "visibility": "hidden",
      "width": null
     }
    },
    "ec3fcbb40d9e48ed9989175618109efa": {
     "model_module": "@jupyter-widgets/controls",
     "model_module_version": "1.5.0",
     "model_name": "DescriptionStyleModel",
     "state": {
      "_model_module": "@jupyter-widgets/controls",
      "_model_module_version": "1.5.0",
      "_model_name": "DescriptionStyleModel",
      "_view_count": null,
      "_view_module": "@jupyter-widgets/base",
      "_view_module_version": "1.2.0",
      "_view_name": "StyleView",
      "description_width": ""
     }
    },
    "f1e5429e69e048b58874f8a58b4f490b": {
     "model_module": "@jupyter-widgets/controls",
     "model_module_version": "1.5.0",
     "model_name": "ProgressStyleModel",
     "state": {
      "_model_module": "@jupyter-widgets/controls",
      "_model_module_version": "1.5.0",
      "_model_name": "ProgressStyleModel",
      "_view_count": null,
      "_view_module": "@jupyter-widgets/base",
      "_view_module_version": "1.2.0",
      "_view_name": "StyleView",
      "bar_color": null,
      "description_width": ""
     }
    },
    "f73dc8555b5643f68597de62402f7a80": {
     "model_module": "@jupyter-widgets/controls",
     "model_module_version": "1.5.0",
     "model_name": "DescriptionStyleModel",
     "state": {
      "_model_module": "@jupyter-widgets/controls",
      "_model_module_version": "1.5.0",
      "_model_name": "DescriptionStyleModel",
      "_view_count": null,
      "_view_module": "@jupyter-widgets/base",
      "_view_module_version": "1.2.0",
      "_view_name": "StyleView",
      "description_width": ""
     }
    },
    "f7691129df9e47c18b3a020492f7b418": {
     "model_module": "@jupyter-widgets/controls",
     "model_module_version": "1.5.0",
     "model_name": "HTMLModel",
     "state": {
      "_dom_classes": [],
      "_model_module": "@jupyter-widgets/controls",
      "_model_module_version": "1.5.0",
      "_model_name": "HTMLModel",
      "_view_count": null,
      "_view_module": "@jupyter-widgets/controls",
      "_view_module_version": "1.5.0",
      "_view_name": "HTMLView",
      "description": "",
      "description_tooltip": null,
      "layout": "IPY_MODEL_54bbb6de0cda4a34a190d29ec3923ccd",
      "placeholder": "​",
      "style": "IPY_MODEL_f73dc8555b5643f68597de62402f7a80",
      "value": "Processing:   0%"
     }
    },
    "fb4f7502923b448fb63d7d9f2baff3ee": {
     "model_module": "@jupyter-widgets/controls",
     "model_module_version": "1.5.0",
     "model_name": "HBoxModel",
     "state": {
      "_dom_classes": [],
      "_model_module": "@jupyter-widgets/controls",
      "_model_module_version": "1.5.0",
      "_model_name": "HBoxModel",
      "_view_count": null,
      "_view_module": "@jupyter-widgets/controls",
      "_view_module_version": "1.5.0",
      "_view_name": "HBoxView",
      "box_style": "",
      "children": [
       "IPY_MODEL_0c7211ab7c9147b4bb68cf758f60f801",
       "IPY_MODEL_ac09ef5b135e4ba487f662be80910d2c",
       "IPY_MODEL_a81eb44e19684479af221ffd0cc3cc11"
      ],
      "layout": "IPY_MODEL_cd34a052a7f6468985a4f970a48e5426"
     }
    }
   }
  }
 },
 "nbformat": 4,
 "nbformat_minor": 0
}
